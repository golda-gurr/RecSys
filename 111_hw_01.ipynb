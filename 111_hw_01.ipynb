{
  "nbformat": 4,
  "nbformat_minor": 0,
  "metadata": {
    "colab": {
      "name": "111_hw_01.ipynb",
      "provenance": [],
      "collapsed_sections": [
        "Ziy893rxo1iw"
      ]
    },
    "kernelspec": {
      "display_name": "Python 3",
      "language": "python",
      "name": "python3"
    },
    "language_info": {
      "codemirror_mode": {
        "name": "ipython",
        "version": 3
      },
      "file_extension": ".py",
      "mimetype": "text/x-python",
      "name": "python",
      "nbconvert_exporter": "python",
      "pygments_lexer": "ipython3",
      "version": "3.8.5"
    }
  },
  "cells": [
    {
      "cell_type": "markdown",
      "metadata": {
        "id": "89mFQmjdo1gZ"
      },
      "source": [
        "# Вебинар 1. Введение, примеры задач, бизнес- и ML-метрики "
      ]
    },
    {
      "cell_type": "markdown",
      "metadata": {
        "id": "51xXN9kOxp5J"
      },
      "source": [
        "# Домашнее задание \n",
        "\n",
        "**1) Приведите еще примеры метрик для оценки рекомендаций/ранжирования (можно взять из интернета, или ваши знания)**\n",
        "\n",
        "**2) Доделать все функции, где стоит комментарий \"сделать дома\"**"
      ]
    },
    {
      "cell_type": "markdown",
      "metadata": {
        "id": "3EkVA9R7E8s8"
      },
      "source": [
        "## Решение задания 1\n",
        "***Среднеобратный ранг (MRR@k, Mean Reciprocal Rank)*** - одна из метрик качества ранжирования\n",
        "\n",
        "- Считаем для первых k рекомендаций\n",
        "- Найти ранг первого релевантного предсказания $k_u$\n",
        "- Посчитать reciprocal rank = $\\frac{1}{k_u}$ для u-го объекта. Величина, равная обратному рангу первого правильно угаданного элемента.\n",
        "\n",
        "Среднеобратный ранг определяется как среднее обратных рангов по всем запросам U:\n",
        "\n",
        "$$MRR = mean(\\frac{1}{k_u})$$\n",
        "\n",
        "*Mean reciprocal rank* изменяется в диапазоне [0,1] и учитывает позицию элементов. Он делает это только для одного элемента — 1-го верно предсказанного, не обращая внимания на все последующие.\n",
        "\n",
        "Результатом интеракции (взаимодействия пользователя и товара) может быть покупка товара, оценка товара пользователем.\n",
        "\n",
        "***PFound***\n",
        "\n",
        "- метрика качества ранжирования, разработанная Яндекс. \n",
        "\n",
        "Расчет PFound производится по такой формуле:\n",
        "\n",
        "$$PFound@K = \\sum_{k=1}^KPLook(k)PRel(k),$$\n",
        "\n",
        "\n",
        "где\n",
        "\n",
        "*PLook(k)* - вероятность просмотреть k-й документ из списка,\n",
        "\n",
        "*PRel(k)* - вероятность того, что k-й документ окажется релевантным.\n",
        "\n",
        "Для оценки вероятности просмотра k-го результата используется два предположения: пользователь просматривает результаты поиска последовательно сверху вниз; он прекращает процесс в случае нахождения релевантного результата либо может остановиться без каких-либо определенных причин (\"надоело\"). Формула Plook(k) следующая:\n",
        "\n",
        "$$PLook(k) = PLook(k-1)(1 - PRel(k-1))(1-PBreak), $$\n",
        "\n",
        "где\n",
        "\n",
        "*PLook(k-1)* - вероятность того, что пользователь просмотрит (k-1)-ю позицию;\n",
        "\n",
        "*1 - PRel(k-1)* - вероятность того, что пользователь не\n",
        "удовлетворится (k-1)-й позицией;\n",
        "\n",
        "*1-PBreak* - вероятность того, что пользователь не прекратит просмотр по независящим от нас причинам (в модели Яндекс PBreak выбрана равной 0.15).\n",
        "\n",
        "Выше описан расчет значения PFound в контексте одного\n",
        "запроса. Целевой задачей процесса машинного обучения является\n",
        "максимизация усредненного значения метрики по всем запросам\n",
        "обучающей выборки.  "
      ]
    },
    {
      "cell_type": "markdown",
      "metadata": {
        "id": "HMttWuEARWLj"
      },
      "source": [
        "## Решение задания 2"
      ]
    },
    {
      "cell_type": "code",
      "metadata": {
        "id": "MDr2G6YIo1g_"
      },
      "source": [
        "import pandas as pd\n",
        "import numpy as np"
      ],
      "execution_count": 1,
      "outputs": []
    },
    {
      "cell_type": "markdown",
      "metadata": {
        "id": "8VrZhsIbo1ha"
      },
      "source": [
        "## 2. ML-mетрики качества"
      ]
    },
    {
      "cell_type": "markdown",
      "metadata": {
        "id": "0dnPDNLYo1hc"
      },
      "source": [
        "*Хороши ли рекомендации, предлагаемые моделью?*  \n",
        "Обычно считаются для каждого юзера, затем усредняются по юзерам"
      ]
    },
    {
      "cell_type": "markdown",
      "metadata": {
        "id": "VrlXLSNao1he"
      },
      "source": [
        "Представим, что в магазине всего 10 товаров"
      ]
    },
    {
      "cell_type": "code",
      "metadata": {
        "id": "bxqcDo_vo1hh"
      },
      "source": [
        "recommended_list = [143, 156, 1134, 991, 27, 1543, 3345, 533, 11, 43] #id товаров\n",
        "bought_list = [521, 32, 143, 991]"
      ],
      "execution_count": null,
      "outputs": []
    },
    {
      "cell_type": "markdown",
      "metadata": {
        "id": "IZ6mlwcSo1hn"
      },
      "source": [
        "### 1. Hit rate\n",
        "\n",
        "Hit rate = был ли хотя бы 1 релевантный товар среди рекомендованных\n",
        "\n",
        "- Иногда применяется, когда продаются достаточно дорогие товары (например, бытовая техника) \n",
        "\n",
        "----\n",
        "Hit rate = (был ли хотя бы 1 релевантный товар среди рекомендованных)   \n",
        "\n",
        "Hit rate@k = (был ли хотя бы 1 релевантный товар среди топ-k рекомендованных)"
      ]
    },
    {
      "cell_type": "code",
      "metadata": {
        "colab": {
          "base_uri": "https://localhost:8080/"
        },
        "id": "W3a2b_H-gO_L",
        "outputId": "9c0cf11e-4fee-42af-936c-b1f68ebc750c"
      },
      "source": [
        "flags = np.isin(bought_list, recommended_list)\n",
        "flags"
      ],
      "execution_count": null,
      "outputs": [
        {
          "output_type": "execute_result",
          "data": {
            "text/plain": [
              "array([False, False,  True,  True])"
            ]
          },
          "metadata": {},
          "execution_count": 15
        }
      ]
    },
    {
      "cell_type": "code",
      "metadata": {
        "id": "eTNLPj1Uxp44"
      },
      "source": [
        "def hit_rate(recommended_list, bought_list):\n",
        "    \n",
        "    bought_list = np.array(bought_list)\n",
        "    recommended_list = np.array(recommended_list)\n",
        "    \n",
        "    flags = np.isin(bought_list, recommended_list)\n",
        "    \n",
        "    hit_rate = (flags.sum() > 0) * 1\n",
        "    \n",
        "    return hit_rate\n",
        "\n",
        "\n",
        "def hit_rate_at_k(recommended_list, bought_list, k=5):\n",
        "    \n",
        "#   сделать в домашней работе\n",
        "\n",
        "    bought_list = np.array(bought_list)\n",
        "    recommended_list = np.array(recommended_list)[:k]\n",
        "\n",
        "    flags = np.isin(bought_list, recommended_list)\n",
        "    \n",
        "    hit_rate = (flags.sum() > 0) * 1\n",
        "    \n",
        "    return hit_rate"
      ],
      "execution_count": null,
      "outputs": []
    },
    {
      "cell_type": "code",
      "metadata": {
        "id": "-LkEBavvhJQG",
        "colab": {
          "base_uri": "https://localhost:8080/"
        },
        "outputId": "689de43a-565d-4927-fa3f-2530424c80d0"
      },
      "source": [
        "# проверяем код, сделанный в домашней работе\n",
        "hit_rate_at_k(recommended_list, bought_list, k=3)"
      ],
      "execution_count": null,
      "outputs": [
        {
          "output_type": "execute_result",
          "data": {
            "text/plain": [
              "1"
            ]
          },
          "metadata": {},
          "execution_count": 20
        }
      ]
    },
    {
      "cell_type": "code",
      "metadata": {
        "id": "cQXLlorio1hs",
        "colab": {
          "base_uri": "https://localhost:8080/"
        },
        "outputId": "3b3fb2d3-f95b-43c7-ec25-9a7e1d1e0ede"
      },
      "source": [
        "hit_rate(recommended_list, bought_list)"
      ],
      "execution_count": null,
      "outputs": [
        {
          "output_type": "execute_result",
          "data": {
            "text/plain": [
              "1"
            ]
          },
          "metadata": {},
          "execution_count": 18
        }
      ]
    },
    {
      "cell_type": "markdown",
      "metadata": {
        "id": "iwXCUigno1hy"
      },
      "source": [
        "### 2. Precision\n",
        "\n",
        "*Precision* - доля релевантных товаров среди рекомендованных = Какой % рекомендованных товаров  юзер купил\n",
        "\n",
        "- Пожалуй, самая приближенная к бизнес-метрикам и самая популярная метрика\n",
        "\n",
        "---\n",
        "\n",
        "Precision= (# of recommended items that are relevant) / (# of recommended items)  \n",
        "\n",
        "Precision@k = (# of recommended items @k that are relevant) / (# of recommended items @k)\n",
        "\n",
        "Money Precision@k = (revenue of recommended items @k that are relevant) / (revenue of recommended items @k)  \n",
        "\n",
        "**Note:** Обычно k в precision@k достаточно невелико (5-20) и определяется из бизнес-логики. Например, 5 товаров в e-mail рассылке, 20 ответов на первой странице google и т.д"
      ]
    },
    {
      "cell_type": "markdown",
      "metadata": {
        "id": "WvSzvvmMo1hz"
      },
      "source": [
        "Красная рыба - 400 руб  \n",
        "Молоко - 60 руб  \n",
        "Хлеб = 40 руб  \n",
        "Гречка = 40 руб  \n",
        "Шоколад = 90 руб  \n",
        "\n",
        "------  \n",
        "Варенье - 240 руб  \n",
        "...  \n",
        "\n",
        "**Case 1**  \n",
        "prices_resommended = [400, 60, 40, 40 , 90]  \n",
        "flags = [1, 0, 0, 0 , 1]  \n",
        "\n",
        "$precison@5 = \\frac{1 + 0 + 0 +0 + 1}{1+1+1+1+1} = 40\\%$  \n",
        "$money precision@5 = \\frac{1*400 + 0*60 + ... + 1*90}{1*400 + 1*60 + ... + 1*90} = 77.7\\%$  \n",
        "\n",
        "  \n",
        "**Case 2**   \n",
        "prices_resommended = [400, 60, 40, 40 , 90]  \n",
        "flags = [0, 1, 0, 0 , 1]  \n",
        "\n",
        "$precison@5 = \\frac{0 + 1 + 0 +0 + 1}{1+1+1+1+1} = 40\\%$  \n",
        "$money precision@5 = \\frac{0*400 + 1*60 + ... + 1*90}{1*400 + 1*60 + ... + 1*90} = 15.8\\%$"
      ]
    },
    {
      "cell_type": "code",
      "metadata": {
        "id": "zbpKZ-VPxp47"
      },
      "source": [
        "recommended_list = [143, 156, 1134, 991, 27, 1543, 3345, 533, 11, 43] #id товаров\n",
        "bought_list = [521, 32, 143, 991]"
      ],
      "execution_count": null,
      "outputs": []
    },
    {
      "cell_type": "code",
      "metadata": {
        "id": "Kq_kmluLxp48"
      },
      "source": [
        "def precision(recommended_list, bought_list):\n",
        "    \n",
        "    bought_list = np.array(bought_list)\n",
        "    recommended_list = np.array(recommended_list)\n",
        "    \n",
        "    flags = np.isin(bought_list, recommended_list)\n",
        "    \n",
        "    precision = flags.sum() / len(recommended_list)\n",
        "    \n",
        "    return precision\n",
        "\n",
        "\n",
        "def precision_at_k(recommended_list, bought_list, k=5):\n",
        "    \n",
        "    bought_list = np.array(bought_list)\n",
        "    recommended_list = np.array(recommended_list)\n",
        "    \n",
        "    bought_list = bought_list  # Тут нет [:k] !!\n",
        "    recommended_list = recommended_list[:k]\n",
        "    \n",
        "    flags = np.isin(bought_list, recommended_list)\n",
        "    \n",
        "    precision = flags.sum() / len(recommended_list)\n",
        "        \n",
        "    return precision\n",
        "\n",
        "\n",
        "def money_precision_at_k(recommended_list, bought_list, prices_recommended, k=5):\n",
        "        \n",
        "#     сделать дома\n",
        "    # Лучше считать через скалярное произведение, а не цикл\n",
        "\n",
        "    bought_list = np.array(bought_list)\n",
        "    recommended_list = np.array(recommended_list)\n",
        "    prices_recommended = np.array(prices_recommended)[:k]\n",
        "    \n",
        "    bought_list = bought_list  # Тут нет [:k] !!\n",
        "    recommended_list = recommended_list[:k]\n",
        "    \n",
        "    flags = np.isin(recommended_list, bought_list)\n",
        "    \n",
        "    print(flags*prices_recommended)\n",
        "    \n",
        "    precision = np.sum(flags*prices_recommended) / np.sum(prices_recommended)\n",
        "    \n",
        "    return precision"
      ],
      "execution_count": 7,
      "outputs": []
    },
    {
      "cell_type": "code",
      "metadata": {
        "id": "mqLOOPNpglhw",
        "colab": {
          "base_uri": "https://localhost:8080/"
        },
        "outputId": "7767bf82-844d-41a7-ae80-cb9de9a4d60b"
      },
      "source": [
        "# проверяем код, сделанный в домашней работе\n",
        "prices_recommended = [10, 20, 30, 40, 50, 60, 70, 80, 90, 100] # цены рекомендованных товаров\n",
        "money_precision_at_k(recommended_list, bought_list, prices_recommended, k=5)"
      ],
      "execution_count": null,
      "outputs": [
        {
          "output_type": "stream",
          "name": "stdout",
          "text": [
            "[10  0  0 40  0]\n"
          ]
        },
        {
          "output_type": "execute_result",
          "data": {
            "text/plain": [
              "0.3333333333333333"
            ]
          },
          "metadata": {},
          "execution_count": 53
        }
      ]
    },
    {
      "cell_type": "code",
      "metadata": {
        "id": "rfL2QSH1o1h5",
        "colab": {
          "base_uri": "https://localhost:8080/"
        },
        "outputId": "e88e8d38-5e80-496c-f919-1180f2924b9f"
      },
      "source": [
        "precision(recommended_list, bought_list)"
      ],
      "execution_count": null,
      "outputs": [
        {
          "output_type": "execute_result",
          "data": {
            "text/plain": [
              "0.4"
            ]
          },
          "metadata": {},
          "execution_count": 48
        }
      ]
    },
    {
      "cell_type": "code",
      "metadata": {
        "id": "35CJV2C7o1iB",
        "colab": {
          "base_uri": "https://localhost:8080/"
        },
        "outputId": "b25a45cd-01d8-4fe6-cb33-035668597c71"
      },
      "source": [
        "precision_at_k(recommended_list, bought_list, k=3)"
      ],
      "execution_count": null,
      "outputs": [
        {
          "output_type": "execute_result",
          "data": {
            "text/plain": [
              "0.3333333333333333"
            ]
          },
          "metadata": {},
          "execution_count": 49
        }
      ]
    },
    {
      "cell_type": "markdown",
      "metadata": {
        "id": "NfVd3dnCo1iN"
      },
      "source": [
        "### 3. Recall\n",
        "\n",
        "*Recall* - доля рекомендованных товаров среди релевантных = Какой % купленных товаров был среди рекомендованных\n",
        "\n",
        "- Обычно используется для моделей пре-фильтрации товаров (убрать те товары, которые точно не будем рекомендовать)\n",
        "\n",
        "---\n",
        "\n",
        "Recall= (# of recommended items that are relevant) / (# of relevant items)  \n",
        "\n",
        "Recall@k = (# of recommended items @k that are relevant) / (# of relevant items)\n",
        "\n",
        "Money Recall@k = (revenue of recommended items @k that are relevant) / (revenue of relevant items)  \n",
        "\n",
        "    \n",
        "  \n",
        "**Note:** в recall@k число k обычно достаточно большое (50-200), больше чем покупок у среднестатистического юзера"
      ]
    },
    {
      "cell_type": "code",
      "metadata": {
        "id": "88HZL_V-xp4-"
      },
      "source": [
        "def recall(recommended_list, bought_list):\n",
        "    \n",
        "    bought_list = np.array(bought_list)\n",
        "    recommended_list = np.array(recommended_list)\n",
        "    \n",
        "    flags = np.isin(bought_list, recommended_list)\n",
        "    \n",
        "    recall = flags.sum() / len(bought_list)\n",
        "    \n",
        "    return recall\n",
        "\n",
        "\n",
        "def recall_at_k(recommended_list, bought_list, k=5):\n",
        "    \n",
        "    # сделать дома\n",
        "\n",
        "    bought_list = np.array(bought_list)\n",
        "    recommended_list = np.array(recommended_list)[:k]\n",
        "    \n",
        "    flags = np.isin(bought_list, recommended_list)\n",
        "    \n",
        "    recall = flags.sum() / len(bought_list)\n",
        "    \n",
        "    return recall\n",
        "\n",
        "\n",
        "def money_recall_at_k(recommended_list, bought_list, prices_recommended, prices_bought, k=5):\n",
        "    \n",
        "    # сделать дома\n",
        "\n",
        "    bought_list = np.array(bought_list)\n",
        "    recommended_list = np.array(recommended_list)\n",
        "    prices_recommended = np.array(prices_recommended)[:k]\n",
        "    prices_bought = np.array(prices_bought)\n",
        "    \n",
        "    bought_list = bought_list  # Тут нет [:k] !!\n",
        "    recommended_list = recommended_list[:k]\n",
        "    \n",
        "    flags = np.isin(recommended_list, bought_list)\n",
        "    \n",
        "    print(flags*prices_recommended)\n",
        "    print(np.sum(prices_bought))\n",
        "    \n",
        "    recall = np.sum(flags*prices_recommended) / np.sum(prices_bought)    \n",
        "    \n",
        "    return recall"
      ],
      "execution_count": null,
      "outputs": []
    },
    {
      "cell_type": "code",
      "metadata": {
        "colab": {
          "base_uri": "https://localhost:8080/"
        },
        "id": "jkiYKlT0re6M",
        "outputId": "4ce34fdc-6b26-4540-c94e-e1c4221e0be5"
      },
      "source": [
        "# проверяем код, сделанный в домашней работе\n",
        "prices_recommended = [10, 20, 30, 40, 50, 60, 70, 80, 90, 100] # цены рекомендованных товаров\n",
        "prices_bought = [5, 15, 10, 40]\n",
        "money_recall_at_k(recommended_list, bought_list, prices_recommended, prices_bought, k=5)"
      ],
      "execution_count": null,
      "outputs": [
        {
          "output_type": "stream",
          "name": "stdout",
          "text": [
            "[10  0  0 40  0]\n",
            "70\n"
          ]
        },
        {
          "output_type": "execute_result",
          "data": {
            "text/plain": [
              "0.7142857142857143"
            ]
          },
          "metadata": {},
          "execution_count": 58
        }
      ]
    },
    {
      "cell_type": "code",
      "metadata": {
        "id": "kd4I_xqvo1iX",
        "colab": {
          "base_uri": "https://localhost:8080/"
        },
        "outputId": "46dd370d-f21a-46a8-bea8-f0928c0facdf"
      },
      "source": [
        "recall(recommended_list, bought_list)"
      ],
      "execution_count": null,
      "outputs": [
        {
          "output_type": "execute_result",
          "data": {
            "text/plain": [
              "0.5"
            ]
          },
          "metadata": {},
          "execution_count": 59
        }
      ]
    },
    {
      "cell_type": "code",
      "metadata": {
        "id": "pwUHkL8oxp4_",
        "colab": {
          "base_uri": "https://localhost:8080/"
        },
        "outputId": "9e1225cb-5116-4706-c2d1-8ad9b747beba"
      },
      "source": [
        "# проверяем код, сделанный в домашней работе\n",
        "recall_at_k(recommended_list,bought_list,k=10)"
      ],
      "execution_count": null,
      "outputs": [
        {
          "output_type": "execute_result",
          "data": {
            "text/plain": [
              "0.5"
            ]
          },
          "metadata": {},
          "execution_count": 61
        }
      ]
    },
    {
      "cell_type": "markdown",
      "metadata": {
        "id": "A-9Go3EOo1ib"
      },
      "source": [
        "---"
      ]
    },
    {
      "cell_type": "markdown",
      "metadata": {
        "id": "p06Ri8-go1ic"
      },
      "source": [
        "# Метрики ранжирования"
      ]
    },
    {
      "cell_type": "markdown",
      "metadata": {
        "id": "Rf-dSurqxp5A"
      },
      "source": [
        "Metrics: https://en.wikipedia.org/wiki/Evaluation_measures_(information_retrieval)"
      ]
    },
    {
      "cell_type": "markdown",
      "metadata": {
        "id": "Rnd4DCp5o1id"
      },
      "source": [
        "Если важен порядок рекомендаций."
      ]
    },
    {
      "cell_type": "markdown",
      "metadata": {
        "id": "F95YT0wwo1id"
      },
      "source": [
        "## AP@k\n",
        "AP@k - average precision at k\n",
        "\n",
        "$$AP@k = \\frac{1}{r} \\sum{[recommended_{relevant_i}] * precision@k}$$\n",
        "\n",
        "- r - кол-во релевантный среди рекомендованных\n",
        "- Суммируем по всем релевантным товарам\n",
        "- Зависит от порядка реокмендаций"
      ]
    },
    {
      "cell_type": "code",
      "metadata": {
        "id": "PdtZre-wxp5B"
      },
      "source": [
        "recommended_list = [221,21,3234,1,234,234,234,666] #id товаров\n",
        "bought_list = [1,2,3,4,5,6,7,8,9]"
      ],
      "execution_count": 10,
      "outputs": []
    },
    {
      "cell_type": "code",
      "metadata": {
        "id": "MD8VFU2uxp5B"
      },
      "source": [
        "def ap_k(recommended_list, bought_list, k=5):\n",
        "    \n",
        "    bought_list = np.array(bought_list)\n",
        "    recommended_list = np.array(recommended_list)[:k]\n",
        "    \n",
        "    relevant_indexes = np.nonzero(np.isin(recommended_list, bought_list))[0]\n",
        "    \n",
        "    if len(relevant_indexes) == 0:\n",
        "        return 0\n",
        "    \n",
        "    amount_relevant = len(relevant_indexes)\n",
        "    \n",
        "    sum_ = sum([precision_at_k(recommended_list, bought_list, k=index_relevant+1) for index_relevant in relevant_indexes])\n",
        "    return sum_/amount_relevant\n",
        "  \n",
        "    "
      ],
      "execution_count": 11,
      "outputs": []
    },
    {
      "cell_type": "code",
      "metadata": {
        "id": "J9PuuAehxp5B",
        "colab": {
          "base_uri": "https://localhost:8080/"
        },
        "outputId": "e057a719-82e8-4bdf-b9c7-7d3a32a974df"
      },
      "source": [
        "ap_k(recommended_list, bought_list, k=5)"
      ],
      "execution_count": 12,
      "outputs": [
        {
          "output_type": "execute_result",
          "data": {
            "text/plain": [
              "0.25"
            ]
          },
          "metadata": {},
          "execution_count": 12
        }
      ]
    },
    {
      "cell_type": "markdown",
      "metadata": {
        "id": "GyKVp_A_o1ip"
      },
      "source": [
        "### MAP@k\n",
        "\n",
        "MAP@k (Mean Average Precision@k)  \n",
        "Среднее AP@k по всем юзерам\n",
        "- Показывает средневзвешенную точность рекомендаций\n",
        "\n",
        "$$MAP@k = \\frac{1}{|U|} \\sum_u{AP_k}$$\n",
        "  \n",
        "|U| - кол-во юзеров"
      ]
    },
    {
      "cell_type": "code",
      "metadata": {
        "id": "5bc-XdSmxp5D"
      },
      "source": [
        "# теперь список из 3 пользователей\n",
        "recommended_list_3_users = [[143, 156, 1134, 991, 27, 1543, 3345, 533, 11, 43], \n",
        "                    [1134, 533, 14, 4, 15, 1543, 1, 99, 27, 3345],\n",
        "                    [991, 3345, 27, 533, 43, 143, 1543, 156, 1134, 11]\n",
        "                           ]\n",
        "\n",
        "bought_list_3_users = [[521, 32, 143],  # юзер 1\n",
        "                       [143, 156, 991, 43, 11], # юзер 2\n",
        "                       [1,2]] # юзер 3"
      ],
      "execution_count": 36,
      "outputs": []
    },
    {
      "cell_type": "code",
      "metadata": {
        "id": "heZq-3_Vo1iq"
      },
      "source": [
        "def map_k(recommended_list, bought_list, k=5):\n",
        "    \n",
        "    # сделать дома\n",
        "\n",
        "    amount_users = len(recommended_list_3_users)\n",
        "    sum_ = sum([ap_k(recommended_list_3_users[i], bought_list_3_users[i], k=5) for i in range(amount_users)])\n",
        "    result = sum_/amount_users\n",
        "    \n",
        "    return result"
      ],
      "execution_count": 37,
      "outputs": []
    },
    {
      "cell_type": "code",
      "metadata": {
        "colab": {
          "base_uri": "https://localhost:8080/"
        },
        "id": "W930a-PsbN4u",
        "outputId": "36ad8d4f-f512-4c18-89a7-946085964e3c"
      },
      "source": [
        "# проверяем код, сделанный в домашней работе\n",
        "map_k(recommended_list_3_users, bought_list_3_users, k=5)"
      ],
      "execution_count": 38,
      "outputs": [
        {
          "output_type": "execute_result",
          "data": {
            "text/plain": [
              "0.3333333333333333"
            ]
          },
          "metadata": {},
          "execution_count": 38
        }
      ]
    },
    {
      "cell_type": "markdown",
      "metadata": {
        "id": "Ziy893rxo1iw"
      },
      "source": [
        "### AUC@k\n",
        "AUC для первых k наблюдений  \n",
        "- Можно посчитать как sklern.metrics.roc_auc_score для топ-k предсказаний\n",
        "- Показывает долю верно отранжированных товаров"
      ]
    },
    {
      "cell_type": "markdown",
      "metadata": {
        "id": "-aRUBub7o1ix"
      },
      "source": [
        "### Normalized discounted cumulative gain ( NDCG@k)\n",
        "\n",
        "\n",
        "$$DCG = \\frac{1}{|r|} \\sum_u{\\frac{[bought fact]}{discount(i)}}$$  \n",
        "\n",
        "$discount(i) = i$ if $i <= 2$,   \n",
        "$discount(i) = log_2(i)$ if $i > 2$\n",
        "\n",
        "\n",
        "(!) Считаем для первых k рекоммендаций   \n",
        "(!) - существуют вариации с другими $discount(i)$  \n",
        "i - ранк рекомендованного товара  \n",
        "|r| - кол-во рекомендованных товаров \n",
        "\n",
        "$$NDCG = \\frac{DCG}{ideal DCG}$$\n"
      ]
    },
    {
      "cell_type": "markdown",
      "metadata": {
        "id": "zHpCD4lKo1i1"
      },
      "source": [
        "$DCG@5 = \\frac{1}{5}*(1 / 1 + 0 / 2 + 0 / log(3) + 1 / log(4) + 0 / log(5))$  \n",
        "$ideal DCG@5 = \\frac{1}{5}*(1 / 1 + 1 / 2 + 1 / log(3) + 1 / log(4) + 1 / log(5))$  \n",
        "\n",
        "$NDCG = \\frac{DCG}{ideal DCG}$"
      ]
    },
    {
      "cell_type": "code",
      "metadata": {
        "id": "4_MOZaSAjcLE"
      },
      "source": [
        "# по желанию\n",
        "# def ndcg_at_k():\n",
        "#     pass"
      ],
      "execution_count": null,
      "outputs": []
    },
    {
      "cell_type": "markdown",
      "metadata": {
        "id": "T7Y-Jtcdo1i6"
      },
      "source": [
        "### Mean Reciprocal Rank ( MRR@k )\n",
        "\n",
        "\n",
        "- Считаем для первых k рекоммендаций\n",
        "- Найти ранк первого релевантного предсказания $k_u$\n",
        "- Посчитать reciprocal rank = $\\frac{1}{k_u}$\n",
        "\n",
        "$$MRR = mean(\\frac{1}{k_u})$$"
      ]
    },
    {
      "cell_type": "code",
      "metadata": {
        "id": "GGMYHJGaxp5G"
      },
      "source": [
        "def reciprocal_rank(recommended_list, bought_list, k=1):\n",
        "    \n",
        "    # сделать дома\n",
        "\n",
        "    recommended_list = recommended_list[:k]\n",
        "    \n",
        "    ranks=0.\n",
        "    for i, item_rec in enumerate(recommended_list):\n",
        "        for item_bought in bought_list:\n",
        "            if item_rec == item_bought:\n",
        "                ranks += 1 / (i+1)\n",
        "\n",
        "    result = ranks / len(recommended_list)\n",
        "\n",
        "    return result"
      ],
      "execution_count": 48,
      "outputs": []
    },
    {
      "cell_type": "code",
      "metadata": {
        "id": "bbfSp0L4jHBH"
      },
      "source": [
        "recommended_list = [2, 5, 7, 4, 11, 9, 8, 10, 12, 3]\n",
        "boughted_list = [1, 3, 5, 7, 9, 11]"
      ],
      "execution_count": 49,
      "outputs": []
    },
    {
      "cell_type": "code",
      "metadata": {
        "id": "xaWBszGAxp5H",
        "colab": {
          "base_uri": "https://localhost:8080/"
        },
        "outputId": "6c6b6721-6ec8-44ff-b8ed-914adb793c91"
      },
      "source": [
        "# проверяем код, сделанный в домашней работе\n",
        "reciprocal_rank(recommended_list, boughted_list, k=8)"
      ],
      "execution_count": 51,
      "outputs": [
        {
          "output_type": "execute_result",
          "data": {
            "text/plain": [
              "0.15"
            ]
          },
          "metadata": {},
          "execution_count": 51
        }
      ]
    }
  ]
}